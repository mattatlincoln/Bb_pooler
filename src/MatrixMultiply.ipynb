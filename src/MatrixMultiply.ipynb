{
 "cells": [
  {
   "cell_type": "code",
   "execution_count": 1,
   "metadata": {},
   "outputs": [],
   "source": [
    "import numpy as np\n",
    "import matplotlib.pyplot as plt\n",
    "import scipy.stats as stats\n",
    "import pooler as pooler"
   ]
  },
  {
   "cell_type": "code",
   "execution_count": 2,
   "metadata": {},
   "outputs": [],
   "source": [
    "def build_matrix():\n",
    "    \"\"\"functional form we are fitting\"\"\"\n",
    "    size = np.random.randint(5,7)\n",
    "    matrix = np.random.rand(size,size)\n",
    "    matrix *= np.random.randint(1,10)\n",
    "    for i in range(size-1):\n",
    "        for j in range(i,size):\n",
    "            matrix[i,j] = matrix[j,i]\n",
    "    return matrix"
   ]
  },
  {
   "cell_type": "code",
   "execution_count": 3,
   "metadata": {},
   "outputs": [],
   "source": [
    "def print_matrix(A):\n",
    "    \"\"\"\n",
    "    print matrix is latex embedded in html\n",
    "    \\(\n",
    "    R = \n",
    "    \\\\left( \\\\begin{array}{cccc}\n",
    "    \\\\cos \\\\theta & -\\\\sin \\\\theta & 0 & 0 \\\\\\\\\n",
    "    \\\\sin \\\\theta & \\\\cos \\\\theta & 0 & 0 \\\\\\\\\n",
    "    0 & 0 & 1 & 0 \\\\\\\\\n",
    "    0 & 0 & 0 & 1\n",
    "    \\\\end{array} \\\\right), \n",
    "    \\)\n",
    "\n",
    "    \"\"\"\n",
    "    my_data = \"\\( \\\\textbf{A} = \\\\left( \\\\begin{array}{\"\n",
    "    for i in range(len(A[0])):\n",
    "        my_data += \"c\"\n",
    "    my_data += \"}<br>\"\n",
    "    for ai in range(len(A[0])):\n",
    "        for aj in range(len(A[0])-1):\n",
    "            my_data += str('{:f}'.format(A[ai,aj])) + \" & \"\n",
    "        my_data += str('{:f}'.format(A[ai,aj+1])) + \"\\\\\\\\<br>\"\n",
    "    my_data += \"\\\\end{array} \\\\right) \\)<br>\"\n",
    "    \n",
    "    return my_data"
   ]
  },
  {
   "cell_type": "code",
   "execution_count": 4,
   "metadata": {},
   "outputs": [],
   "source": [
    "def generate_data():\n",
    "    \"\"\"generate a data set\"\"\"\n",
    "    my_matrix = build_matrix() \n",
    "    matrix_squared = np.dot(my_matrix, my_matrix)\n",
    "    # condition number should use smallest eigenvalue\n",
    "    # by magnitude, not signed\n",
    "    #print(abs(w[0]),abs(w[-1]), abs(w[-1])/abs(w[0]))\n",
    "    return my_matrix, np.sum(matrix_squared)"
   ]
  },
  {
   "cell_type": "code",
   "execution_count": 5,
   "metadata": {},
   "outputs": [
    {
     "name": "stdout",
     "output_type": "stream",
     "text": [
      "[[156.36186678  91.1945108  174.55169139 110.29250629 145.12842794\n",
      "   91.60573431]\n",
      " [ 91.1945108   91.56874173 160.51383533  82.65240562 117.56739186\n",
      "   61.53969965]\n",
      " [174.55169139 160.51383533 308.35615874 183.36046469 256.43194579\n",
      "  139.43212472]\n",
      " [110.29250629  82.65240562 183.36046469 144.08152048 172.04211486\n",
      "   92.72248092]\n",
      " [145.12842794 117.56739186 256.43194579 172.04211486 256.45373192\n",
      "  136.5556364 ]\n",
      " [ 91.60573431  61.53969965 139.43212472  92.72248092 136.5556364\n",
      "   91.91042022]] 5079.914381005667\n"
     ]
    },
    {
     "data": {
      "text/plain": [
       "5079.914381005667"
      ]
     },
     "execution_count": 5,
     "metadata": {},
     "output_type": "execute_result"
    }
   ],
   "source": [
    "my_matrix, count = generate_data()\n",
    "print(np.dot(my_matrix, my_matrix), count)\n",
    "np.sum(np.dot(my_matrix, my_matrix))"
   ]
  },
  {
   "cell_type": "markdown",
   "metadata": {},
   "source": [
    "# Make pool"
   ]
  },
  {
   "cell_type": "code",
   "execution_count": 6,
   "metadata": {},
   "outputs": [],
   "source": [
    "number_of_questions = 10\n",
    "my_pool = pooler.setup_pool(number_of_questions)"
   ]
  },
  {
   "cell_type": "code",
   "execution_count": 7,
   "metadata": {},
   "outputs": [],
   "source": [
    "for i in range(number_of_questions):\n",
    "    question = my_pool.create_question()    \n",
    "    my_matrix, answer = generate_data()\n",
    "    my_data = print_matrix(my_matrix)\n",
    "    my_text_matmult = \"\"\"\n",
    "    <p>Find the sum of elements of the matrix \\(\\\\textbf{A}^2\\).</p>  \n",
    "    <p>Your answer should be the sum of the elements in the matrix formed by multiplying the matrix \\(\\\\textbf{A}\\) with itself.<br></p>\n",
    "    \"\"\"\n",
    "\n",
    "    my_pool.set_question_text(question, my_text_matmult + my_data)\n",
    "    my_pool.set_question_accuracy(question, answer, 0.1)\n",
    "    my_pool.set_question_answer(question, answer)\n",
    "    my_pool.set_question(question)        "
   ]
  },
  {
   "cell_type": "code",
   "execution_count": 8,
   "metadata": {},
   "outputs": [
    {
     "data": {
      "text/plain": [
       "'\\\\( \\\\textbf{A} = \\\\left( \\\\begin{array}{ccccc}<br>3.243998 & 7.585622 & 6.244601 & 7.459325 & 4.358713\\\\\\\\<br>7.585622 & 0.706678 & 5.195211 & 0.180218 & 2.177688\\\\\\\\<br>6.244601 & 5.195211 & 0.504912 & 3.769038 & 7.096096\\\\\\\\<br>7.459325 & 0.180218 & 3.769038 & 5.370002 & 6.995861\\\\\\\\<br>4.358713 & 2.177688 & 7.096096 & 6.995861 & 4.233052\\\\\\\\<br>\\\\end{array} \\\\right) \\\\)<br>'"
      ]
     },
     "execution_count": 8,
     "metadata": {},
     "output_type": "execute_result"
    }
   ],
   "source": [
    "my_data"
   ]
  },
  {
   "cell_type": "code",
   "execution_count": 9,
   "metadata": {},
   "outputs": [],
   "source": [
    "# finally output\n",
    "my_pool.tree.write('MatMult.dat')"
   ]
  }
 ],
 "metadata": {
  "kernelspec": {
   "display_name": "Python 3 (ipykernel)",
   "language": "python",
   "name": "python3"
  },
  "language_info": {
   "codemirror_mode": {
    "name": "ipython",
    "version": 3
   },
   "file_extension": ".py",
   "mimetype": "text/x-python",
   "name": "python",
   "nbconvert_exporter": "python",
   "pygments_lexer": "ipython3",
   "version": "3.8.13"
  }
 },
 "nbformat": 4,
 "nbformat_minor": 2
}
