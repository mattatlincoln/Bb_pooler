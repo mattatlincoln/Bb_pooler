{
 "cells": [
  {
   "cell_type": "code",
   "execution_count": 1,
   "metadata": {},
   "outputs": [],
   "source": [
    "import numpy as np\n",
    "import matplotlib.pyplot as plt\n",
    "import scipy.stats as stats\n",
    "import pooler as pooler"
   ]
  },
  {
   "cell_type": "code",
   "execution_count": 2,
   "metadata": {},
   "outputs": [],
   "source": [
    "def build_laplace(size):\n",
    "    \"\"\"build tridiagonal matrix representation of laplacian in 1d\"\"\"\n",
    "    a = np.ones(size-1); b = -2*np.ones(size); c = a\n",
    "    k1=-1; k2=0; k3=1\n",
    "    A = np.diag(a, k1) + np.diag(b, k2) + np.diag(c, k3)\n",
    "    A[0,1] = 0 ; A[size-1,size-2]=0\n",
    "    return A\n",
    "\n",
    "def build_source(x,yL,yR,x0,a,k):\n",
    "    dx = x[1]-x[0]\n",
    "    g = a*np.exp(-k*(x-x0)**2) * dx**2\n",
    "    g[0] = -2 *yL\n",
    "    g[-1] = -2 * yR\n",
    "    return g"
   ]
  },
  {
   "cell_type": "code",
   "execution_count": 3,
   "metadata": {},
   "outputs": [],
   "source": [
    "def generate_coeffs():\n",
    "    xmin = np.random.randint(-10,10)\n",
    "    xmax = xmin + np.random.randint(1,10)\n",
    "    x0 = xmin + (xmax - xmin)/(np.random.randint(1,10))\n",
    "    yL = np.random.randint(-10,10)\n",
    "    #yR = np.random.randint(-10,10)\n",
    "    yR = yL\n",
    "    a = np.random.randint(-10,10)\n",
    "    while (a == 0):\n",
    "        a = np.random.randint(-10,10)\n",
    "    k = np.random.randint(1,10)\n",
    "    return x0, xmin, xmax, a, k, yL,yR"
   ]
  },
  {
   "cell_type": "code",
   "execution_count": 4,
   "metadata": {},
   "outputs": [],
   "source": [
    "def generate_data(size,x0, a, k,yL,yR):\n",
    "    x = np.linspace(xmin, xmax, size)\n",
    "    A = build_laplace(size)\n",
    "    g = build_source(x,yL,yR,x0, a, k)\n",
    "    return A,g,x\n",
    "\n",
    "def generate_answer(x0,a, k,yL,yR):\n",
    "    extremum = []\n",
    "    for point in np.linspace(100,5000,10):\n",
    "        A, g, x = generate_data(int(point),x0, a, k,yL,yR)\n",
    "        y = np.linalg.solve(A,g)\n",
    "        if (k > 0):\n",
    "            extremum.append(y.min())\n",
    "        else:\n",
    "            extremum.append(y.max())                        \n",
    "    return extremum[-1], abs(extremum[-1] - extremum[1])\n",
    "    #plt.plot(np.linspace(100,5000,10),extremum);"
   ]
  },
  {
   "cell_type": "code",
   "execution_count": 5,
   "metadata": {},
   "outputs": [],
   "source": [
    "x0,xmin,xmax, a, k, yL, yR = generate_coeffs()"
   ]
  },
  {
   "cell_type": "code",
   "execution_count": 6,
   "metadata": {},
   "outputs": [
    {
     "data": {
      "image/png": "[encoded data removed]",
      "text/plain": [
       "<Figure size 432x288 with 1 Axes>"
      ]
     },
     "metadata": {
      "needs_background": "light"
     },
     "output_type": "display_data"
    }
   ],
   "source": [
    "A, g, x = generate_data(1000,x0,a,k,yL,yR)\n",
    "y = np.linalg.solve(A,g)\n",
    "plt.plot(x,y);\n",
    "#if (k > 0):\n",
    "#    print(y.min())\n",
    "#else:\n",
    "#    print(y.max())\n",
    "#answer, error = generate_answer(x0,k,yL,yR)\n",
    "#print(answer, error)"
   ]
  },
  {
   "cell_type": "code",
   "execution_count": 7,
   "metadata": {},
   "outputs": [
    {
     "data": {
      "text/plain": [
       "[1.5141518923804527,\n",
       " 1.5143617118590549,\n",
       " 1.5143487082221891,\n",
       " 1.514330123972712,\n",
       " 1.5143311001822979,\n",
       " 1.5143390874434217,\n",
       " 1.5143401410106148,\n",
       " 1.5143397908220397,\n",
       " 1.5143393112376176,\n",
       " 1.5143385480921596]"
      ]
     },
     "execution_count": 7,
     "metadata": {},
     "output_type": "execute_result"
    },
    {
     "data": {
      "image/png": "[encoded data removed]",
      "text/plain": [
       "<Figure size 432x288 with 1 Axes>"
      ]
     },
     "metadata": {
      "needs_background": "light"
     },
     "output_type": "display_data"
    }
   ],
   "source": [
    "extremum = []\n",
    "for point in np.linspace(10,500,10):\n",
    "    A, g, x = generate_data(int(point),x0, a, k,yL,yR)\n",
    "    y = np.linalg.solve(A,g)\n",
    "    if (a > 0):\n",
    "        extremum.append(y.min())\n",
    "    else:\n",
    "        extremum.append(y.max())\n",
    "                        \n",
    "plt.plot(np.linspace(10,500,10),extremum);\n",
    "extremum"
   ]
  },
  {
   "cell_type": "markdown",
   "metadata": {},
   "source": [
    "# Make pool"
   ]
  },
  {
   "cell_type": "code",
   "execution_count": 8,
   "metadata": {},
   "outputs": [],
   "source": [
    "number_of_questions = 25\n",
    "my_pool = pooler.setup_pool(number_of_questions)"
   ]
  },
  {
   "cell_type": "code",
   "execution_count": 9,
   "metadata": {},
   "outputs": [],
   "source": [
    "for i in range(number_of_questions):\n",
    "    question = my_pool.create_question()    \n",
    "    x0, xmin, xmax, a, k, yL, yR = generate_coeffs()\n",
    "    answer, error = generate_answer(x0, a, k,yL,yR)\n",
    "    my_text_diff1 = \"\"\"\n",
    "    <p>Solve the following differential equation<br>\n",
    "    \\( \\\\frac{\\\\text{d}^2 y}{\\\\text{d} x^2} = a\\\\exp[-k(x-x_0)^2]\\)<br>\n",
    "    in the interval [\"\"\"\n",
    "    \n",
    "    my_text_diff1 += str(xmin) + \", \" + str(xmax) + \"], with the boundary conditions \\(y_L\\) = \"\n",
    "    my_text_diff1 += str(yL) + \", \\(y_R\\) =\" + str(yR) + \".</p>\"\n",
    "    my_text_diff1 += \"<p>Set \\(k\\) = \" + str(k) + \", \\(a\\) =\" + str(a) + \", \\(x_0\\) =\" + str('{:f}'.format(x0)) + \".</p>\"\n",
    "    my_text_diff1 += \"<p>What is the \"\n",
    "    \n",
    "    if (a > 0):\n",
    "        my_text_diff1 += \"minimum value of \\(y\\) in the interval?\"\n",
    "    else:\n",
    "        my_text_diff1 += \"maximum value of \\(y\\) in the interval?\"\n",
    "\n",
    "    my_pool.set_question_text(question, my_text_diff1)\n",
    "    my_pool.set_question_accuracy(question, answer, error)\n",
    "    my_pool.set_question_answer(question, answer)\n",
    "    my_pool.set_question(question)        \n"
   ]
  },
  {
   "cell_type": "code",
   "execution_count": 10,
   "metadata": {},
   "outputs": [],
   "source": [
    "my_pool.tree.write('ODE_gaussian.dat')"
   ]
  }
 ],
 "metadata": {
  "kernelspec": {
   "display_name": "Python 3 (ipykernel)",
   "language": "python",
   "name": "python3"
  },
  "language_info": {
   "codemirror_mode": {
    "name": "ipython",
    "version": 3
   },
   "file_extension": ".py",
   "mimetype": "text/x-python",
   "name": "python",
   "nbconvert_exporter": "python",
   "pygments_lexer": "ipython3",
   "version": "3.8.13"
  }
 },
 "nbformat": 4,
 "nbformat_minor": 2
}
