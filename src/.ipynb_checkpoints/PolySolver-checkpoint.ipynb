{
 "cells": [
  {
   "cell_type": "code",
   "execution_count": 8,
   "metadata": {
    "collapsed": true
   },
   "outputs": [],
   "source": [
    "import xml.etree.ElementTree as ET\n",
    "import copy\n",
    "import sys\n",
    "import numpy as np\n",
    "import matplotlib.pyplot as plt\n",
    "import scipy.stats as stats\n",
    "%matplotlib inline"
   ]
  },
  {
   "cell_type": "code",
   "execution_count": 47,
   "metadata": {
    "collapsed": true
   },
   "outputs": [],
   "source": [
    "def make_poly():\n",
    "    x0 = np.random.randint(-10,10)\n",
    "    x1 = x0 + np.random.randint(1,10)\n",
    "    x2 = x1 + np.random.randint(1,10)\n",
    "    k = np.random.randint(-10,10)\n",
    "    a3 = k\n",
    "    a2 = -k*(x0+x1+x2)\n",
    "    a1 = k*(x0*x1+x1*x2+x2*x0)\n",
    "    a0 = -k*x0*x1*x2\n",
    "    return a3,a2,a1,a0,x2,x1,x0,k"
   ]
  },
  {
   "cell_type": "code",
   "execution_count": 58,
   "metadata": {
    "collapsed": true
   },
   "outputs": [],
   "source": [
    "def eval_poly(x,a3,a2,a1,a0):\n",
    "    return a3*x**3 + a2*x**2 + a1*x**1 + a0*x**0"
   ]
  },
  {
   "cell_type": "code",
   "execution_count": 67,
   "metadata": {},
   "outputs": [
    {
     "name": "stdout",
     "output_type": "stream",
     "text": [
      "4 8 13\n"
     ]
    },
    {
     "data": {
      "image/png": "[encoded data removed]",
      "text/plain": [
       "<matplotlib.figure.Figure at 0x7f6fc086d4e0>"
      ]
     },
     "metadata": {},
     "output_type": "display_data"
    }
   ],
   "source": [
    "a3,a2,a1,a0,x2,x1,x0,k = make_poly()\n",
    "print(x0,x1,x2)\n",
    "x = np.linspace(x0-0.5,x2+0.5)\n",
    "plt.plot(x,eval_poly(x,a3,a2,a1,a0));"
   ]
  },
  {
   "cell_type": "markdown",
   "metadata": {},
   "source": [
    "# Make pool"
   ]
  },
  {
   "cell_type": "code",
   "execution_count": 71,
   "metadata": {
    "collapsed": true
   },
   "outputs": [],
   "source": [
    "my_script = '<p><script type=\"text/javascript\" src=\"https://cdn.mathjax.org/mathjax/latest/MathJax.js?config=TeX-MML-AM_CHTML\"></script></p>'\n",
    "\n",
    "tree = ET.ElementTree(file='../template/res00001.dat')\n",
    "root = tree.getroot()\n",
    "for item in root.findall(\".//*[item]\"):\n",
    "    section = item\n",
    "    \n",
    "# make a copy of original question(s)\n",
    "template = []\n",
    "for elem in tree.iter(tag='item'):\n",
    "    template.append(copy.deepcopy(elem))\n",
    "    section.remove(elem) # delete template\n"
   ]
  },
  {
   "cell_type": "code",
   "execution_count": 72,
   "metadata": {},
   "outputs": [],
   "source": [
    "number_of_questions = 25\n",
    "for i in range(number_of_questions):\n",
    "    question = copy.deepcopy(template)\n",
    "    a3,a2,a1,a0,x2,x1,x0,k = make_poly()\n",
    "    my_text_diff1 = \"\"\"\n",
    "    <p>Implement <a href=\"https://en.wikipedia.org/wiki/Brent%27s_method\">Brent's Method</a> and explain what advantages it has over Bisection or Newton's Algorithm.<p>\n",
    "    Find the solutions of \\(\"\"\"\n",
    "    my_text_diff1 += str('{:f}'.format(a3)) + \"x^3 + \" + str('{:f}'.format(a2)) + \"x^2 + \" + str('{:f}'.format(a1)) + \"x^1 + \" + str('{:f}'.format(a0)) + \"\\)>\"\n",
    "    #my_text_diff1 += str(a3) + \"x^3 + \" + str(a2) + \"x^2 + \" + str(a1) + \"x^1 + \" + str(a0) + \"\\)>\"\n",
    "    my_text_diff1 += \"<p>What is the value of the second largest solution you obtained?\"\n",
    "    \n",
    "    question_text = my_text_diff1 + \"</p>\" + my_script\n",
    "    question[0][1][0][0][0][0][0][0].text = question_text\n",
    "    question[0][2][1][0][0].text = str('{:f}'.format(x1-0.1))\n",
    "    question[0][2][1][0][1].text = str('{:f}'.format(x1+0.1))\n",
    "    question[0][2][1][0][2].text = str('{:f}'.format(x1))\n",
    "    section.append(question[0])"
   ]
  },
  {
   "cell_type": "code",
   "execution_count": 73,
   "metadata": {
    "collapsed": true
   },
   "outputs": [],
   "source": [
    "# finally output\n",
    "tree.write('test.dat')"
   ]
  },
  {
   "cell_type": "code",
   "execution_count": null,
   "metadata": {
    "collapsed": true
   },
   "outputs": [],
   "source": []
  }
 ],
 "metadata": {
  "kernelspec": {
   "display_name": "Python 3",
   "language": "python",
   "name": "python3"
  },
  "language_info": {
   "codemirror_mode": {
    "name": "ipython",
    "version": 3
   },
   "file_extension": ".py",
   "mimetype": "text/x-python",
   "name": "python",
   "nbconvert_exporter": "python",
   "pygments_lexer": "ipython3",
   "version": "3.5.3"
  }
 },
 "nbformat": 4,
 "nbformat_minor": 2
}
