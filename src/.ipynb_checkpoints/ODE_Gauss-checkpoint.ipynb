{
 "cells": [
  {
   "cell_type": "code",
   "execution_count": 20,
   "metadata": {},
   "outputs": [],
   "source": [
    "import numpy as np\n",
    "import matplotlib.pyplot as plt\n",
    "import scipy.stats as stats"
   ]
  },
  {
   "cell_type": "code",
   "execution_count": 21,
   "metadata": {},
   "outputs": [],
   "source": [
    "def build_laplace(size):\n",
    "    \"\"\"build tridiagonal matrix representation of laplacian in 1d\"\"\"\n",
    "    a = np.ones(size-1); b = -2*np.ones(size); c = a\n",
    "    k1=-1; k2=0; k3=1\n",
    "    A = np.diag(a, k1) + np.diag(b, k2) + np.diag(c, k3)\n",
    "    A[0,1] = 0 ; A[size-1,size-2]=0\n",
    "    return A\n",
    "\n",
    "def build_source(x,yL,yR,x0,a,k):\n",
    "    dx = x[1]-x[0]\n",
    "    g = a*np.exp(-k*(x-x0)**2) * dx**2\n",
    "    g[0] = -2 *yL\n",
    "    g[-1] = -2 * yR\n",
    "    return g"
   ]
  },
  {
   "cell_type": "code",
   "execution_count": 27,
   "metadata": {},
   "outputs": [],
   "source": [
    "def generate_coeffs():\n",
    "    xmin = np.random.randint(-10,10)\n",
    "    xmax = xmin + np.random.randint(1,10)\n",
    "    x0 = xmin + (xmax - xmin)/(np.random.randint(1,10))\n",
    "    yL = np.random.randint(-10,10)\n",
    "    #yR = np.random.randint(-10,10)\n",
    "    yR = yL\n",
    "    a = np.random.randint(-10,10)\n",
    "    while (a == 0):\n",
    "        a = np.random.randint(-10,10)\n",
    "    k = np.random.randint(1,10)\n",
    "    return x0, xmin, xmax, a, k, yL,yR"
   ]
  },
  {
   "cell_type": "code",
   "execution_count": 28,
   "metadata": {},
   "outputs": [],
   "source": [
    "def generate_data(size,x0, a, k,yL,yR):\n",
    "    x = np.linspace(xmin, xmax, size)\n",
    "    A = build_laplace(size)\n",
    "    g = build_source(x,yL,yR,x0, a, k)\n",
    "    return A,g,x\n",
    "\n",
    "def generate_answer(x0,a, k,yL,yR):\n",
    "    extremum = []\n",
    "    for point in np.linspace(100,5000,10):\n",
    "        A, g, x = generate_data(point,x0, a, k,yL,yR)\n",
    "        y = np.linalg.solve(A,g)\n",
    "        if (k > 0):\n",
    "            extremum.append(y.min())\n",
    "        else:\n",
    "            extremum.append(y.max())                        \n",
    "    return extremum[-1], abs(extremum[-1] - extremum[1])\n",
    "    #plt.plot(np.linspace(100,5000,10),extremum);"
   ]
  },
  {
   "cell_type": "code",
   "execution_count": 29,
   "metadata": {},
   "outputs": [],
   "source": [
    "x0,xmin,xmax, a, k, yL, yR = generate_coeffs()"
   ]
  },
  {
   "cell_type": "code",
   "execution_count": 30,
   "metadata": {},
   "outputs": [
    {
     "data": {
      "image/png": "[encoded data removed]",
      "text/plain": [
       "<Figure size 432x288 with 1 Axes>"
      ]
     },
     "metadata": {
      "needs_background": "light"
     },
     "output_type": "display_data"
    }
   ],
   "source": [
    "A, g, x = generate_data(1000,x0,a,k,yL,yR)\n",
    "y = np.linalg.solve(A,g)\n",
    "plt.plot(x,y);\n",
    "#if (k > 0):\n",
    "#    print(y.min())\n",
    "#else:\n",
    "#    print(y.max())\n",
    "#answer, error = generate_answer(x0,k,yL,yR)\n",
    "#print(answer, error)"
   ]
  },
  {
   "cell_type": "code",
   "execution_count": 16,
   "metadata": {},
   "outputs": [
    {
     "data": {
      "text/plain": [
       "[1.5065059613855667,\n",
       " 1.503587966128375,\n",
       " 1.503671004505227,\n",
       " 1.5036617254461886,\n",
       " 1.5036771960731632,\n",
       " 1.5036728314347914,\n",
       " 1.503675018069187,\n",
       " 1.5036734941705474,\n",
       " 1.503673036873548,\n",
       " 1.5036727256664149]"
      ]
     },
     "execution_count": 16,
     "metadata": {},
     "output_type": "execute_result"
    },
    {
     "data": {
      "image/png": "[encoded data removed]",
      "text/plain": [
       "<Figure size 432x288 with 1 Axes>"
      ]
     },
     "metadata": {
      "needs_background": "light"
     },
     "output_type": "display_data"
    }
   ],
   "source": [
    "extremum = []\n",
    "for point in np.linspace(10,500,10):\n",
    "    A, g, x = generate_data(int(point),x0, a, k,yL,yR)\n",
    "    y = np.linalg.solve(A,g)\n",
    "    if (a > 0):\n",
    "        extremum.append(y.min())\n",
    "    else:\n",
    "        extremum.append(y.max())\n",
    "                        \n",
    "plt.plot(np.linspace(10,500,10),extremum);\n",
    "extremum"
   ]
  },
  {
   "cell_type": "markdown",
   "metadata": {},
   "source": [
    "# Make pool"
   ]
  },
  {
   "cell_type": "code",
   "execution_count": 17,
   "metadata": {},
   "outputs": [],
   "source": [
    "my_script = '<p><script type=\"text/javascript\" src=\"https://cdn.mathjax.org/mathjax/latest/MathJax.js?config=TeX-MML-AM_CHTML\"></script></p>'\n",
    "\n",
    "tree = ET.ElementTree(file='../template/res00001.dat')\n",
    "root = tree.getroot()\n",
    "for item in root.findall(\".//*[item]\"):\n",
    "    section = item\n",
    "    \n",
    "# make a copy of original question(s)\n",
    "template = []\n",
    "for elem in tree.iter(tag='item'):\n",
    "    template.append(copy.deepcopy(elem))\n",
    "    section.remove(elem) # delete template\n"
   ]
  },
  {
   "cell_type": "code",
   "execution_count": 18,
   "metadata": {},
   "outputs": [
    {
     "ename": "TypeError",
     "evalue": "'numpy.float64' object cannot be interpreted as an integer",
     "output_type": "error",
     "traceback": [
      "\u001b[1;31m---------------------------------------------------------------------------\u001b[0m",
      "\u001b[1;31mTypeError\u001b[0m                                 Traceback (most recent call last)",
      "Input \u001b[1;32mIn [18]\u001b[0m, in \u001b[0;36m<cell line: 2>\u001b[1;34m()\u001b[0m\n\u001b[0;32m      3\u001b[0m question \u001b[38;5;241m=\u001b[39m copy\u001b[38;5;241m.\u001b[39mdeepcopy(template)\n\u001b[0;32m      4\u001b[0m x0, xmin, xmax, a, k, yL, yR \u001b[38;5;241m=\u001b[39m generate_coeffs()\n\u001b[1;32m----> 5\u001b[0m answer, error \u001b[38;5;241m=\u001b[39m \u001b[43mgenerate_answer\u001b[49m\u001b[43m(\u001b[49m\u001b[43mx0\u001b[49m\u001b[43m,\u001b[49m\u001b[43m \u001b[49m\u001b[43ma\u001b[49m\u001b[43m,\u001b[49m\u001b[43m \u001b[49m\u001b[43mk\u001b[49m\u001b[43m,\u001b[49m\u001b[43myL\u001b[49m\u001b[43m,\u001b[49m\u001b[43myR\u001b[49m\u001b[43m)\u001b[49m\n\u001b[0;32m      6\u001b[0m my_text_diff1 \u001b[38;5;241m=\u001b[39m \u001b[38;5;124m\"\"\"\u001b[39m\n\u001b[0;32m      7\u001b[0m \u001b[38;5;124m<p>Solve the following differential equation<br>\u001b[39m\n\u001b[0;32m      8\u001b[0m \u001b[38;5;124m\u001b[39m\u001b[38;5;124m\\\u001b[39m\u001b[38;5;124m( \u001b[39m\u001b[38;5;130;01m\\\\\u001b[39;00m\u001b[38;5;124mfrac\u001b[39m\u001b[38;5;124m{\u001b[39m\u001b[38;5;130;01m\\\\\u001b[39;00m\u001b[38;5;124mtext\u001b[39m\u001b[38;5;132;01m{d}\u001b[39;00m\u001b[38;5;124m^2 y}\u001b[39m\u001b[38;5;124m{\u001b[39m\u001b[38;5;130;01m\\\\\u001b[39;00m\u001b[38;5;124mtext\u001b[39m\u001b[38;5;132;01m{d}\u001b[39;00m\u001b[38;5;124m x^2} = a\u001b[39m\u001b[38;5;130;01m\\\\\u001b[39;00m\u001b[38;5;124mexp[k(x-x_0)^2]\u001b[39m\u001b[38;5;124m\\\u001b[39m\u001b[38;5;124m)<br>\u001b[39m\n\u001b[0;32m      9\u001b[0m \u001b[38;5;124min the interval [\u001b[39m\u001b[38;5;124m\"\"\"\u001b[39m\n\u001b[0;32m     10\u001b[0m my_text_diff1 \u001b[38;5;241m+\u001b[39m\u001b[38;5;241m=\u001b[39m \u001b[38;5;28mstr\u001b[39m(xmin) \u001b[38;5;241m+\u001b[39m \u001b[38;5;124m\"\u001b[39m\u001b[38;5;124m, \u001b[39m\u001b[38;5;124m\"\u001b[39m \u001b[38;5;241m+\u001b[39m \u001b[38;5;28mstr\u001b[39m(xmax) \u001b[38;5;241m+\u001b[39m \u001b[38;5;124m\"\u001b[39m\u001b[38;5;124m], with the boundary conditions \u001b[39m\u001b[38;5;124m\\\u001b[39m\u001b[38;5;124m(y_L\u001b[39m\u001b[38;5;124m\\\u001b[39m\u001b[38;5;124m) = \u001b[39m\u001b[38;5;124m\"\u001b[39m\n",
      "Input \u001b[1;32mIn [4]\u001b[0m, in \u001b[0;36mgenerate_answer\u001b[1;34m(x0, a, k, yL, yR)\u001b[0m\n\u001b[0;32m      8\u001b[0m extremum \u001b[38;5;241m=\u001b[39m []\n\u001b[0;32m      9\u001b[0m \u001b[38;5;28;01mfor\u001b[39;00m point \u001b[38;5;129;01min\u001b[39;00m np\u001b[38;5;241m.\u001b[39mlinspace(\u001b[38;5;241m100\u001b[39m,\u001b[38;5;241m5000\u001b[39m,\u001b[38;5;241m10\u001b[39m):\n\u001b[1;32m---> 10\u001b[0m     A, g, x \u001b[38;5;241m=\u001b[39m \u001b[43mgenerate_data\u001b[49m\u001b[43m(\u001b[49m\u001b[43mpoint\u001b[49m\u001b[43m,\u001b[49m\u001b[43mx0\u001b[49m\u001b[43m,\u001b[49m\u001b[43m \u001b[49m\u001b[43ma\u001b[49m\u001b[43m,\u001b[49m\u001b[43m \u001b[49m\u001b[43mk\u001b[49m\u001b[43m,\u001b[49m\u001b[43myL\u001b[49m\u001b[43m,\u001b[49m\u001b[43myR\u001b[49m\u001b[43m)\u001b[49m\n\u001b[0;32m     11\u001b[0m     y \u001b[38;5;241m=\u001b[39m np\u001b[38;5;241m.\u001b[39mlinalg\u001b[38;5;241m.\u001b[39msolve(A,g)\n\u001b[0;32m     12\u001b[0m     \u001b[38;5;28;01mif\u001b[39;00m (k \u001b[38;5;241m>\u001b[39m \u001b[38;5;241m0\u001b[39m):\n",
      "Input \u001b[1;32mIn [4]\u001b[0m, in \u001b[0;36mgenerate_data\u001b[1;34m(size, x0, a, k, yL, yR)\u001b[0m\n\u001b[0;32m      1\u001b[0m \u001b[38;5;28;01mdef\u001b[39;00m \u001b[38;5;21mgenerate_data\u001b[39m(size,x0, a, k,yL,yR):\n\u001b[1;32m----> 2\u001b[0m     x \u001b[38;5;241m=\u001b[39m \u001b[43mnp\u001b[49m\u001b[38;5;241;43m.\u001b[39;49m\u001b[43mlinspace\u001b[49m\u001b[43m(\u001b[49m\u001b[43mxmin\u001b[49m\u001b[43m,\u001b[49m\u001b[43m \u001b[49m\u001b[43mxmax\u001b[49m\u001b[43m,\u001b[49m\u001b[43m \u001b[49m\u001b[43msize\u001b[49m\u001b[43m)\u001b[49m\n\u001b[0;32m      3\u001b[0m     A \u001b[38;5;241m=\u001b[39m build_laplace(size)\n\u001b[0;32m      4\u001b[0m     g \u001b[38;5;241m=\u001b[39m build_source(x,yL,yR,x0, a, k)\n",
      "File \u001b[1;32m<__array_function__ internals>:5\u001b[0m, in \u001b[0;36mlinspace\u001b[1;34m(*args, **kwargs)\u001b[0m\n",
      "File \u001b[1;32m~\\anaconda3\\lib\\site-packages\\numpy\\core\\function_base.py:120\u001b[0m, in \u001b[0;36mlinspace\u001b[1;34m(start, stop, num, endpoint, retstep, dtype, axis)\u001b[0m\n\u001b[0;32m     23\u001b[0m \u001b[38;5;129m@array_function_dispatch\u001b[39m(_linspace_dispatcher)\n\u001b[0;32m     24\u001b[0m \u001b[38;5;28;01mdef\u001b[39;00m \u001b[38;5;21mlinspace\u001b[39m(start, stop, num\u001b[38;5;241m=\u001b[39m\u001b[38;5;241m50\u001b[39m, endpoint\u001b[38;5;241m=\u001b[39m\u001b[38;5;28;01mTrue\u001b[39;00m, retstep\u001b[38;5;241m=\u001b[39m\u001b[38;5;28;01mFalse\u001b[39;00m, dtype\u001b[38;5;241m=\u001b[39m\u001b[38;5;28;01mNone\u001b[39;00m,\n\u001b[0;32m     25\u001b[0m              axis\u001b[38;5;241m=\u001b[39m\u001b[38;5;241m0\u001b[39m):\n\u001b[0;32m     26\u001b[0m     \u001b[38;5;124;03m\"\"\"\u001b[39;00m\n\u001b[0;32m     27\u001b[0m \u001b[38;5;124;03m    Return evenly spaced numbers over a specified interval.\u001b[39;00m\n\u001b[0;32m     28\u001b[0m \n\u001b[1;32m   (...)\u001b[0m\n\u001b[0;32m    118\u001b[0m \n\u001b[0;32m    119\u001b[0m \u001b[38;5;124;03m    \"\"\"\u001b[39;00m\n\u001b[1;32m--> 120\u001b[0m     num \u001b[38;5;241m=\u001b[39m \u001b[43moperator\u001b[49m\u001b[38;5;241;43m.\u001b[39;49m\u001b[43mindex\u001b[49m\u001b[43m(\u001b[49m\u001b[43mnum\u001b[49m\u001b[43m)\u001b[49m\n\u001b[0;32m    121\u001b[0m     \u001b[38;5;28;01mif\u001b[39;00m num \u001b[38;5;241m<\u001b[39m \u001b[38;5;241m0\u001b[39m:\n\u001b[0;32m    122\u001b[0m         \u001b[38;5;28;01mraise\u001b[39;00m \u001b[38;5;167;01mValueError\u001b[39;00m(\u001b[38;5;124m\"\u001b[39m\u001b[38;5;124mNumber of samples, \u001b[39m\u001b[38;5;132;01m%s\u001b[39;00m\u001b[38;5;124m, must be non-negative.\u001b[39m\u001b[38;5;124m\"\u001b[39m \u001b[38;5;241m%\u001b[39m num)\n",
      "\u001b[1;31mTypeError\u001b[0m: 'numpy.float64' object cannot be interpreted as an integer"
     ]
    }
   ],
   "source": [
    "number_of_questions = 25\n",
    "for i in range(number_of_questions):\n",
    "    question = copy.deepcopy(template)\n",
    "    x0, xmin, xmax, a, k, yL, yR = generate_coeffs()\n",
    "    answer, error = generate_answer(x0, a, k,yL,yR)\n",
    "    my_text_diff1 = \"\"\"\n",
    "    <p>Solve the following differential equation<br>\n",
    "    \\( \\\\frac{\\\\text{d}^2 y}{\\\\text{d} x^2} = a\\\\exp[-k(x-x_0)^2]\\)<br>\n",
    "    in the interval [\"\"\"\n",
    "    my_text_diff1 += str(xmin) + \", \" + str(xmax) + \"], with the boundary conditions \\(y_L\\) = \"\n",
    "    my_text_diff1 += str(yL) + \", \\(y_R\\) =\" + str(yR) + \".</p>\"\n",
    "    my_text_diff1 += \"<p>Set \\(k\\) = \" + str(k) + \", \\(a\\) =\" + str(a) + \", \\(x_0\\) =\" + str('{:f}'.format(x0)) + \".</p>\"\n",
    "    my_text_diff1 += \"<p>What is the \"\n",
    "    if (a > 0):\n",
    "        my_text_diff1 += \"minimum value of \\(y\\) in the interval?\"\n",
    "    else:\n",
    "        my_text_diff1 += \"maximum value of \\(y\\) in the interval?\"\n",
    "    \n",
    "    question_text = my_text_diff1 + \"</p>\" + my_script\n",
    "    question[0][1][0][0][0][0][0][0].text = question_text\n",
    "    question[0][2][1][0][0].text = str('{:f}'.format(answer-error))\n",
    "    question[0][2][1][0][1].text = str('{:f}'.format(answer+error))\n",
    "    question[0][2][1][0][2].text = str('{:f}'.format(answer))\n",
    "    section.append(question[0])"
   ]
  },
  {
   "cell_type": "code",
   "execution_count": 10,
   "metadata": {
    "collapsed": true
   },
   "outputs": [],
   "source": [
    "# finally output\n",
    "tree.write('test.dat')"
   ]
  },
  {
   "cell_type": "code",
   "execution_count": null,
   "metadata": {
    "collapsed": true
   },
   "outputs": [],
   "source": []
  }
 ],
 "metadata": {
  "kernelspec": {
   "display_name": "Python 3 (ipykernel)",
   "language": "python",
   "name": "python3"
  },
  "language_info": {
   "codemirror_mode": {
    "name": "ipython",
    "version": 3
   },
   "file_extension": ".py",
   "mimetype": "text/x-python",
   "name": "python",
   "nbconvert_exporter": "python",
   "pygments_lexer": "ipython3",
   "version": "3.8.13"
  }
 },
 "nbformat": 4,
 "nbformat_minor": 2
}
