{
 "cells": [
  {
   "cell_type": "code",
   "execution_count": 1,
   "id": "29c31f99",
   "metadata": {},
   "outputs": [],
   "source": [
    "import pooler as pooler"
   ]
  },
  {
   "cell_type": "code",
   "execution_count": 2,
   "id": "2dc560ce",
   "metadata": {},
   "outputs": [],
   "source": [
    "num_questions = 10\n",
    "my_pool = pooler.setup_pool(10)"
   ]
  },
  {
   "cell_type": "code",
   "execution_count": 3,
   "id": "ce56ce06",
   "metadata": {},
   "outputs": [],
   "source": [
    "for i in range(num_questions):\n",
    "    question = my_pool.create_question()\n",
    "    answer = 10.0\n",
    "    error = 0.1\n",
    "    xmax = 10\n",
    "    xmin = -10\n",
    "    x0 = 5\n",
    "    yL = 1\n",
    "    yR = 2\n",
    "    k = 10\n",
    "    a = 5\n",
    "    my_text_diff1 = \"\"\"\n",
    "    <p>Solve the following differential equation<br>\n",
    "    \\( \\\\frac{\\\\text{d}^2 y}{\\\\text{d} x^2} = a\\\\exp[k(x-x_0)^2]\\)<br>\n",
    "    in the interval [\"\"\"\n",
    "    my_text_diff1 += str(xmin) + \", \" + str(xmax) + \"], with the boundary conditions \\(y_L\\) = \"\n",
    "    my_text_diff1 += str(yL) + \", \\(y_R\\) =\" + str(yR) + \".</p>\"\n",
    "    my_text_diff1 += \"<p>Set \\(k\\) = \" + str(k) + \", \\(a\\) =\" + str(a) + \", \\(x_0\\) =\" + str('{:f}'.format(x0)) + \".</p>\"\n",
    "    my_text_diff1 += \"<p>What is the \"\n",
    "    if (a > 0):\n",
    "        my_text_diff1 += \"minimum value of \\(y\\) in the interval?\"\n",
    "    else:\n",
    "        my_text_diff1 += \"maximum value of \\(y\\) in the interval?\"\n",
    "\n",
    "    my_pool.set_question_text(question, my_text_diff1)\n",
    "    my_pool.set_question_accuracy(question, answer, error)\n",
    "    my_pool.set_question_answer(question, answer)\n",
    "    my_pool.set_question(question)"
   ]
  },
  {
   "cell_type": "code",
   "execution_count": 4,
   "id": "a598a4cd",
   "metadata": {},
   "outputs": [],
   "source": [
    "my_pool.tree.write('testing.dat')"
   ]
  }
 ],
 "metadata": {
  "kernelspec": {
   "display_name": "Python 3 (ipykernel)",
   "language": "python",
   "name": "python3"
  },
  "language_info": {
   "codemirror_mode": {
    "name": "ipython",
    "version": 3
   },
   "file_extension": ".py",
   "mimetype": "text/x-python",
   "name": "python",
   "nbconvert_exporter": "python",
   "pygments_lexer": "ipython3",
   "version": "3.8.13"
  }
 },
 "nbformat": 4,
 "nbformat_minor": 5
}
