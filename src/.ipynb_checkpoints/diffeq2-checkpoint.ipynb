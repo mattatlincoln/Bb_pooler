{
 "cells": [
  {
   "cell_type": "code",
   "execution_count": 1,
   "metadata": {
    "collapsed": true
   },
   "outputs": [],
   "source": [
    "import xml.etree.ElementTree as ET\n",
    "import copy\n",
    "import sys\n",
    "import numpy as np\n",
    "import matplotlib.pyplot as plt\n",
    "import scipy.stats as stats\n",
    "%matplotlib inline"
   ]
  },
  {
   "cell_type": "code",
   "execution_count": 2,
   "metadata": {
    "collapsed": true
   },
   "outputs": [],
   "source": [
    "def build_laplace(size,dx, k):\n",
    "    \"\"\"build tridiagonal matrix representation of laplacian in 1d\"\"\"\n",
    "    a = np.ones(size-1); b = -2*np.ones(size) + k*dx**2; c = a\n",
    "    k1=-1; k2=0; k3=1\n",
    "    A = np.diag(a, k1) + np.diag(b, k2) + np.diag(c, k3)\n",
    "    A[0,1] = 0 ; A[size-1,size-2]=0\n",
    "    A[0,0] = -2; A[size-1,size-1]=-2\n",
    "    return A\n",
    "\n",
    "def build_source(x,yL,yR,x0,a,k):\n",
    "    dx = x[1]-x[0]\n",
    "    g = a*np.ones(len(x))*dx**2\n",
    "    #g = a*np.zeros(len(x))\n",
    "    g[0] = -2 *yL\n",
    "    g[-1] = -2 * yR\n",
    "    return g"
   ]
  },
  {
   "cell_type": "code",
   "execution_count": 3,
   "metadata": {
    "collapsed": true
   },
   "outputs": [],
   "source": [
    "def generate_coeffs():\n",
    "    xmin = np.random.randint(-10,10)\n",
    "    xmax = xmin + np.random.randint(5,10)\n",
    "    x0 = xmin + (xmax - xmin)/(np.random.randint(1,10))\n",
    "    yL = np.random.randint(-10,10)\n",
    "    #yR = np.random.randint(-10,10)\n",
    "    yR = yL\n",
    "    a = np.random.randint(-10,10)\n",
    "    k= np.random.random()+ np.random.randint(5,10)\n",
    "    return x0, xmin, xmax, a, k, yL,yR"
   ]
  },
  {
   "cell_type": "code",
   "execution_count": 4,
   "metadata": {
    "collapsed": true
   },
   "outputs": [],
   "source": [
    "def generate_data(size,x0, a, k, yL,yR):\n",
    "    x = np.linspace(xmin, xmax, size)\n",
    "    dx = x[1]-x[0]\n",
    "    A = build_laplace(size, dx, k)\n",
    "    g = build_source(x,yL,yR,x0, a, k)\n",
    "    return A,g,x\n",
    "\n",
    "def generate_answer(x0,a, k,yL,yR):\n",
    "    peak2peak = []\n",
    "    for point in np.linspace(100,5000,10):\n",
    "        A, g, x = generate_data(point,x0, a, k,yL,yR)\n",
    "        y = np.linalg.solve(A,g)\n",
    "        peak2peak.append(y.max()-y.min())\n",
    "    #plt.plot(peak2peak)\n",
    "    return peak2peak[-1], abs(peak2peak[1]-peak2peak[-1])"
   ]
  },
  {
   "cell_type": "code",
   "execution_count": 5,
   "metadata": {},
   "outputs": [],
   "source": [
    "x0,xmin,xmax, a, k, yL, yR = generate_coeffs()"
   ]
  },
  {
   "cell_type": "code",
   "execution_count": 6,
   "metadata": {},
   "outputs": [
    {
     "data": {
      "text/plain": [
       "8.993485419173249"
      ]
     },
     "execution_count": 6,
     "metadata": {},
     "output_type": "execute_result"
    },
    {
     "data": {
      "image/png": "[encoded data removed]",
      "text/plain": [
       "<matplotlib.figure.Figure at 0x7f3e7fe494e0>"
      ]
     },
     "metadata": {},
     "output_type": "display_data"
    }
   ],
   "source": [
    "A, g, x = generate_data(100,x0,a,k,yL,yR)\n",
    "#print(A,g)\n",
    "y = np.linalg.solve(A,g)\n",
    "plt.plot(x,y);\n",
    "k\n",
    "#answer, error = generate_answer(x0,a,k,yL,yR)\n",
    "#print(answer, error)"
   ]
  },
  {
   "cell_type": "markdown",
   "metadata": {},
   "source": [
    "# Make pool"
   ]
  },
  {
   "cell_type": "code",
   "execution_count": 7,
   "metadata": {
    "collapsed": true
   },
   "outputs": [],
   "source": [
    "my_script = '<p><script type=\"text/javascript\" src=\"https://cdn.mathjax.org/mathjax/latest/MathJax.js?config=TeX-MML-AM_CHTML\"></script></p>'\n",
    "\n",
    "tree = ET.ElementTree(file='../template/res00001.dat')\n",
    "root = tree.getroot()\n",
    "for item in root.findall(\".//*[item]\"):\n",
    "    section = item\n",
    "    \n",
    "# make a copy of original question(s)\n",
    "template = []\n",
    "for elem in tree.iter(tag='item'):\n",
    "    template.append(copy.deepcopy(elem))\n",
    "    section.remove(elem) # delete template\n"
   ]
  },
  {
   "cell_type": "code",
   "execution_count": 8,
   "metadata": {},
   "outputs": [
    {
     "name": "stderr",
     "output_type": "stream",
     "text": [
      "/home/mattw/anaconda3/lib/python3.5/site-packages/numpy/core/numeric.py:190: VisibleDeprecationWarning: using a non-integer number instead of an integer will result in an error in the future\n",
      "  a = empty(shape, dtype, order)\n",
      "/home/mattw/anaconda3/lib/python3.5/site-packages/ipykernel_launcher.py:6: VisibleDeprecationWarning: using a non-integer number instead of an integer will result in an error in the future\n",
      "  \n",
      "/home/mattw/anaconda3/lib/python3.5/site-packages/ipykernel_launcher.py:7: VisibleDeprecationWarning: using a non-integer number instead of an integer will result in an error in the future\n",
      "  import sys\n"
     ]
    }
   ],
   "source": [
    "number_of_questions = 25\n",
    "for i in range(number_of_questions):\n",
    "    question = copy.deepcopy(template)\n",
    "    x0, xmin, xmax, a, k, yL, yR = generate_coeffs()\n",
    "    answer, error = generate_answer(x0, a, k,yL,yR)\n",
    "    my_text_diff1 = \"\"\"\n",
    "    <p>Solve the following differential equation<br>\n",
    "    \\( \\\\frac{\\\\text{d}^2 y}{\\\\text{d} x^2} +ky = a\\)<br>\n",
    "    in the interval [\"\"\"\n",
    "    my_text_diff1 += str(xmin) + \", \" + str(xmax) + \"], with the boundary conditions \\(y_L\\) = \"\n",
    "    my_text_diff1 += str(yL) + \", \\(y_R\\) =\" + str(yR) + \".</p>\"\n",
    "    my_text_diff1 += \"<p>Set \\(k\\) = \" + str('{:f}'.format(k)) + \", \\(a\\) =\" + str(a) + \", \\(x_0\\) =\" + str('{:f}'.format(x0)) + \".</p>\"\n",
    "    my_text_diff1 += \"<p>What is the peak to peak height of your solution?\"\n",
    "    \n",
    "    question_text = my_text_diff1 + \"</p>\" + my_script\n",
    "    question[0][1][0][0][0][0][0][0].text = question_text\n",
    "    question[0][2][1][0][0].text = str('{:f}'.format(answer-error))\n",
    "    question[0][2][1][0][1].text = str('{:f}'.format(answer+error))\n",
    "    question[0][2][1][0][2].text = str('{:f}'.format(answer))\n",
    "    section.append(question[0])"
   ]
  },
  {
   "cell_type": "code",
   "execution_count": 9,
   "metadata": {
    "collapsed": true
   },
   "outputs": [],
   "source": [
    "# finally output\n",
    "tree.write('test.dat')"
   ]
  },
  {
   "cell_type": "code",
   "execution_count": null,
   "metadata": {
    "collapsed": true
   },
   "outputs": [],
   "source": []
  }
 ],
 "metadata": {
  "kernelspec": {
   "display_name": "Python 3",
   "language": "python",
   "name": "python3"
  },
  "language_info": {
   "codemirror_mode": {
    "name": "ipython",
    "version": 3
   },
   "file_extension": ".py",
   "mimetype": "text/x-python",
   "name": "python",
   "nbconvert_exporter": "python",
   "pygments_lexer": "ipython3",
   "version": "3.5.3"
  }
 },
 "nbformat": 4,
 "nbformat_minor": 2
}
