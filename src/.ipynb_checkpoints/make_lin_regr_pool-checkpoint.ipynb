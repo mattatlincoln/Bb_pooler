{
 "cells": [
  {
   "cell_type": "code",
   "execution_count": 1,
   "metadata": {
    "collapsed": true
   },
   "outputs": [],
   "source": [
    "import xml.etree.ElementTree as ET\n",
    "import copy\n",
    "import sys\n",
    "import numpy as np\n",
    "import matplotlib.pyplot as plt\n",
    "import scipy.stats as stats\n",
    "%matplotlib inline"
   ]
  },
  {
   "cell_type": "code",
   "execution_count": 2,
   "metadata": {
    "collapsed": true
   },
   "outputs": [],
   "source": [
    "def func(x,m,c):\n",
    "    \"\"\"functional form we are fitting\"\"\"\n",
    "    return m*x+c"
   ]
  },
  {
   "cell_type": "code",
   "execution_count": 3,
   "metadata": {
    "collapsed": true
   },
   "outputs": [],
   "source": [
    "def generate_data():\n",
    "    \"\"\"\n",
    "    generates a data set and calculates \n",
    "    parameters for linear regression\n",
    "    \"\"\"\n",
    "    N = np.random.randint(6,13)\n",
    "    a1 = float(np.random.randint(-50,50))\n",
    "    a0 = float(np.random.randint(-50,50))\n",
    "    # our data\n",
    "    x = np.linspace(0,10,N)\n",
    "    noise_mag = abs(a0/2)\n",
    "    if (noise_mag < 0.1): noise_mag = 0.1 # otherwise np.random.normal dies\n",
    "    y_noise = np.random.normal(0,abs(a0/2),N) # normally distributed noise\n",
    "    y = func(x,a1,a0) + y_noise\n",
    "    slope,intercept, r_value, p_value, std_err = stats.linregress(x,y)\n",
    "    plt.plot(x,y,linestyle=\"\", marker='x');\n",
    "    print(a1, a0, slope,intercept, r_value, p_value, std_err)\n",
    "    return x, y, a1, a0, slope,intercept, r_value, p_value, std_err"
   ]
  },
  {
   "cell_type": "code",
   "execution_count": 4,
   "metadata": {
    "collapsed": true
   },
   "outputs": [],
   "source": [
    "# x, y, a1, a0, slope,intercept, r_value, p_value, std_err = generate_data()"
   ]
  },
  {
   "cell_type": "code",
   "execution_count": 5,
   "metadata": {
    "collapsed": true
   },
   "outputs": [],
   "source": [
    "def print_data(x,y):\n",
    "    \"\"\"\n",
    "    prepare data for insertion into Blackboard test - i.e. html\n",
    "    \"\"\"\n",
    "    my_data = \"\\(x_i\\) \\t \\t \\(y_i\\)<br>\"\n",
    "    for xi, yi in zip(x,y):\n",
    "        my_data = my_data + str('{:f}'.format(xi)) + \"\\t\" + str('{:f}'.format(yi)) + \"<br>\"\n",
    "\n",
    "    return my_data"
   ]
  },
  {
   "cell_type": "markdown",
   "metadata": {},
   "source": [
    "### Useful sites\n",
    "\n",
    "https://eli.thegreenplace.net/2012/03/15/processing-xml-in-python-with-elementtree\n",
    "https://msdn.microsoft.com/en-us/library/ms256086(v=vs.110).aspx\n",
    "https://docs.python.org/2/library/xml.etree.elementtree.html"
   ]
  },
  {
   "cell_type": "code",
   "execution_count": 6,
   "metadata": {
    "collapsed": true
   },
   "outputs": [],
   "source": [
    "tree = ET.ElementTree(file='template/res00001.dat')\n",
    "root = tree.getroot()"
   ]
  },
  {
   "cell_type": "code",
   "execution_count": 14,
   "metadata": {
    "collapsed": true
   },
   "outputs": [],
   "source": [
    "#for elem in tree.iter(tag='item'):\n",
    "#    print(elem.tag, elem.attrib)"
   ]
  },
  {
   "cell_type": "code",
   "execution_count": 9,
   "metadata": {
    "collapsed": true
   },
   "outputs": [],
   "source": [
    "# Nodes that have an 'item' child\n",
    "for item in root.findall(\".//*[item]\"):\n",
    "    section = item\n",
    "    \n",
    "# make a copy of original question(s)\n",
    "template = []\n",
    "for elem in tree.iter(tag='item'):\n",
    "    template.append(copy.deepcopy(elem))\n",
    "    section.remove(elem) # delete template\n"
   ]
  },
  {
   "cell_type": "code",
   "execution_count": 10,
   "metadata": {
    "collapsed": false
   },
   "outputs": [
    {
     "name": "stdout",
     "output_type": "stream",
     "text": [
      "-44.0 -40.0 -39.8515837693 -58.9454983541 -0.989365658744 7.60302189412e-09 1.95290044285\n",
      "-42.0 47.0 -42.9701609038 48.7073223359 -0.989088047917 1.19632181779e-09 2.02399882023\n",
      "-42.0 -34.0 -41.5772151122 -34.2803035718 -0.997014778758 9.33684736764e-07 1.43995095243\n",
      "32.0 -44.0 30.4180261177 -39.5300365263 0.994758301973 3.28194796788e-09 1.10547672204\n",
      "-9.0 -50.0 -5.1031846191 -62.1609518896 -0.678981304022 0.0934747034203 2.46766701078\n",
      "41.0 -14.0 41.042098075 -13.0285499499 0.999125173394 1.14764762307e-06 0.858935676913\n",
      "-18.0 8.0 -17.6095798301 7.81595375435 -0.995572913172 2.49872328907e-06 0.743504736438\n",
      "-22.0 46.0 -20.4707061765 30.9182570274 -0.935141829647 8.10102101562e-06 2.45241570051\n",
      "31.0 18.0 30.2839969135 20.7501452068 0.999240009299 3.98148501525e-11 0.446509768857\n",
      "11.0 45.0 11.6243930277 57.6920224033 0.852877396938 0.00170956916003 2.5159483942\n",
      "-33.0 48.0 -34.2167728797 58.7668392198 -0.988396984661 2.76806393046e-05 2.35157922213\n",
      "4.0 -31.0 2.80306508075 -19.8692457372 0.498434516593 0.208685790927 1.99036236655\n",
      "-30.0 33.0 -29.0700956095 28.9512433481 -0.992954833798 8.69593222983e-07 1.41623619752\n",
      "18.0 31.0 18.947594578 22.5840247856 0.936921015787 0.00584294305172 3.53443019287\n",
      "-12.0 -23.0 -9.78218296307 -41.1261739833 -0.971117026214 0.000268105319188 1.07487105625\n",
      "47.0 2.0 47.4084105539 -0.427372612172 0.999994883549 3.34845666029e-16 0.0619128540184\n",
      "27.0 11.0 26.8719698183 13.7251102654 0.999302108928 2.47036176723e-08 0.449211359745\n",
      "11.0 10.0 10.5192662164 12.6705670508 0.982121158736 7.79447264117e-08 0.672100017866\n",
      "-26.0 12.0 -25.2368865424 5.80311668025 -0.997466478615 8.18537772011e-13 0.569166725926\n",
      "-40.0 8.0 -39.9732001049 8.37302415118 -0.999559354633 5.91103056176e-12 0.448665900637\n",
      "-17.0 23.0 -17.8640205557 36.6423579404 -0.98081371997 1.98274104189e-08 1.12281934035\n",
      "-33.0 -48.0 -33.0737872775 -48.7587486728 -0.983670186064 8.89815430906e-09 1.91363793398\n",
      "-15.0 -2.0 -15.1166745758 -1.54384887809 -0.999894314324 2.20530961294e-10 0.0982943940217\n",
      "36.0 -47.0 34.2111760054 -32.2369017053 0.985051196707 5.73365400673e-09 1.8919004042\n",
      "43.0 -25.0 41.5404312024 -10.7301926715 0.995734826223 2.7248765626e-05 1.92449634603\n",
      "48.0 -28.0 47.8316522624 -24.2227668966 0.994977171499 2.49662425366e-11 1.52175734536\n",
      "13.0 15.0 13.393847574 9.22574693685 0.990815414893 0.000126147515174 0.913961434732\n",
      "17.0 2.0 17.0025281985 2.67480661739 0.999895602849 5.19610880266e-16 0.0868684030864\n",
      "-21.0 -43.0 -24.5115199559 -15.1030448706 -0.974467284928 8.18773865254e-08 1.7859794182\n",
      "-5.0 15.0 -5.03342096559 14.6711017177 -0.911972374705 3.58541602492e-05 0.716031074546\n"
     ]
    },
    {
     "data": {
      "image/png": "[encoded data removed]",
      "text/plain": [
       "<matplotlib.figure.Figure at 0x7f162ad2aeb8>"
      ]
     },
     "metadata": {},
     "output_type": "display_data"
    }
   ],
   "source": [
    "number_of_questions = 30\n",
    "for i in range(number_of_questions):\n",
    "    question = copy.deepcopy(template)\n",
    "    x, y, a1, a0, slope,intercept, r_value, p_value, std_err = generate_data()\n",
    "    my_data = print_data(x,y)\n",
    "    my_script = '<p><script type=\"text/javascript\" src=\"https://cdn.mathjax.org/mathjax/latest/MathJax.js?config=TeX-MML-AM_CHTML\"></script></p>'\n",
    "    question_text = \"<p>What is the correlation coefficient of the following data:</p><br><p>\" + my_data + \"</p>\" + my_script\n",
    "    question[0][1][0][0][0][0][0][0].text = question_text\n",
    "    question[0][2][1][0][0].text = str('{:f}'.format(r_value-0.001))\n",
    "    question[0][2][1][0][1].text = str('{:f}'.format(r_value+0.001))\n",
    "    question[0][2][1][0][2].text = str('{:f}'.format(r_value))\n",
    "    section.append(question[0])"
   ]
  },
  {
   "cell_type": "code",
   "execution_count": 13,
   "metadata": {
    "collapsed": true
   },
   "outputs": [],
   "source": [
    "#for elem in tree.iter(tag='item'):\n",
    "#    print(elem.tag, elem.attrib)"
   ]
  },
  {
   "cell_type": "code",
   "execution_count": 12,
   "metadata": {
    "collapsed": true
   },
   "outputs": [],
   "source": [
    "# finally output\n",
    "tree.write('test.dat')"
   ]
  }
 ],
 "metadata": {
  "kernelspec": {
   "display_name": "Python 3",
   "language": "python",
   "name": "python3"
  },
  "language_info": {
   "codemirror_mode": {
    "name": "ipython",
    "version": 3
   },
   "file_extension": ".py",
   "mimetype": "text/x-python",
   "name": "python",
   "nbconvert_exporter": "python",
   "pygments_lexer": "ipython3",
   "version": "3.6.0"
  }
 },
 "nbformat": 4,
 "nbformat_minor": 2
}
