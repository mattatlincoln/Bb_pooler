{
 "cells": [
  {
   "cell_type": "code",
   "execution_count": 1,
   "metadata": {},
   "outputs": [],
   "source": [
    "import numpy as np\n",
    "import matplotlib.pyplot as plt\n",
    "import scipy.stats as stats\n",
    "import pooler as pooler"
   ]
  },
  {
   "cell_type": "code",
   "execution_count": 2,
   "metadata": {},
   "outputs": [],
   "source": [
    "def build_matrix():\n",
    "    \"\"\"functional form we are fitting\"\"\"\n",
    "    size = np.random.randint(4,6)\n",
    "    matrix = np.random.rand(size,size)\n",
    "    matrix *= np.random.randint(1,10)\n",
    "    for i in range(size-1):\n",
    "        for j in range(i,size):\n",
    "            matrix[i,j] = matrix[j,i]\n",
    "    return matrix"
   ]
  },
  {
   "cell_type": "code",
   "execution_count": 3,
   "metadata": {},
   "outputs": [],
   "source": [
    "def power_method(my_matrix):\n",
    "    my_vector = np.ones(len(my_matrix[0]))\n",
    "    for i in range(100):\n",
    "        my_vector /= np.sqrt(np.dot(my_vector.T,my_vector))\n",
    "        my_vector = np.dot(my_matrix,my_vector)\n",
    "    eigenval = np.sqrt((np.dot(my_vector.T,my_vector)))\n",
    "    return eigenval, my_vector"
   ]
  },
  {
   "cell_type": "code",
   "execution_count": 4,
   "metadata": {},
   "outputs": [],
   "source": [
    "def print_matrix(A):\n",
    "    \"\"\"\n",
    "    print matrix is latex embedded in html\n",
    "    \\(\n",
    "    R = \n",
    "    \\\\left( \\\\begin{array}{cccc}\n",
    "    \\\\cos \\\\theta & -\\\\sin \\\\theta & 0 & 0 \\\\\\\\\n",
    "    \\\\sin \\\\theta & \\\\cos \\\\theta & 0 & 0 \\\\\\\\\n",
    "    0 & 0 & 1 & 0 \\\\\\\\\n",
    "    0 & 0 & 0 & 1\n",
    "    \\\\end{array} \\\\right), \n",
    "    \\)\n",
    "\n",
    "    \"\"\"\n",
    "    my_data = \"\\( \\\\textbf{A} = \\\\left( \\\\begin{array}{\"\n",
    "    for i in range(len(A[0])):\n",
    "        my_data += \"c\"\n",
    "    my_data += \"}<br>\"\n",
    "    for ai in range(len(A[0])):\n",
    "        for aj in range(len(A[0])-1):\n",
    "            my_data += str('{:f}'.format(A[ai,aj])) + \" & \"\n",
    "        my_data += str('{:f}'.format(A[ai,aj+1])) + \"\\\\\\\\<br>\"\n",
    "    my_data += \"\\\\end{array} \\\\right) \\)<br>\"\n",
    "    \n",
    "    return my_data"
   ]
  },
  {
   "cell_type": "code",
   "execution_count": 5,
   "metadata": {},
   "outputs": [],
   "source": [
    "def generate_data():\n",
    "    \"\"\"generate a data set\"\"\"\n",
    "    my_matrix = build_matrix() \n",
    "    w, v = np.linalg.eig(my_matrix)\n",
    "    # condition number should use smallest eigenvalue\n",
    "    # by magnitude, not signed\n",
    "    for i in range(len(w)):\n",
    "        w[i] = abs(w[i]) \n",
    "    w.sort()\n",
    "    #print(abs(w[0]),abs(w[-1]), abs(w[-1])/abs(w[0]))\n",
    "    return my_matrix, abs(w[-1])/abs(w[0])"
   ]
  },
  {
   "cell_type": "code",
   "execution_count": 6,
   "metadata": {},
   "outputs": [],
   "source": [
    "def run_diagnostic(my_matrix):\n",
    "    \"\"\"check solution\"\"\"\n",
    "    my_big_eigval, my_big_eigvec = power_method(my_matrix)\n",
    "    my_inverse_matrix = np.linalg.inv(my_matrix)\n",
    "    my_small_eigval, my_small_eigvec = power_method(my_inverse_matrix)\n",
    "    #print(my_big_eigval, my_big_eigvec)\n",
    "    #print(1.0/my_small_eigval, my_small_eigvec)\n",
    "    #print(\"condition_number\", my_big_eigval*my_small_eigval)\n",
    "    print(np.dot(my_inverse_matrix, my_matrix))\n",
    "    return my_big_eigval*my_small_eigval"
   ]
  },
  {
   "cell_type": "code",
   "execution_count": 7,
   "metadata": {},
   "outputs": [
    {
     "name": "stdout",
     "output_type": "stream",
     "text": [
      "[[ 1.00000000e+00  5.55111512e-17  1.11022302e-16  1.17093835e-16\n",
      "  -9.02056208e-17]\n",
      " [ 1.38777878e-16  1.00000000e+00 -1.11022302e-16  1.19262239e-17\n",
      "   1.24900090e-16]\n",
      " [-2.49800181e-16 -2.22044605e-16  1.00000000e+00 -1.65882932e-16\n",
      "  -1.80411242e-16]\n",
      " [ 4.44089210e-16  4.44089210e-16  0.00000000e+00  1.00000000e+00\n",
      "   3.33066907e-16]\n",
      " [ 1.11022302e-16  2.77555756e-17  0.00000000e+00 -8.80372164e-17\n",
      "   1.00000000e+00]]\n",
      "condition number is  12.681959008065334\n"
     ]
    },
    {
     "data": {
      "text/plain": [
       "'\\\\( \\\\textbf{A} = \\\\left( \\\\begin{array}{ccccc}<br>6.340021 & 7.544371 & 6.535589 & 4.553380 & 2.431728\\\\\\\\<br>7.544371 & 4.337713 & 1.359613 & 2.644350 & 4.476603\\\\\\\\<br>6.535589 & 1.359613 & 7.658065 & 2.406710 & 7.697802\\\\\\\\<br>4.553380 & 2.644350 & 2.406710 & 2.389783 & 0.021923\\\\\\\\<br>2.431728 & 4.476603 & 7.697802 & 0.021923 & 0.509778\\\\\\\\<br>\\\\end{array} \\\\right) \\\\)<br>'"
      ]
     },
     "execution_count": 7,
     "metadata": {},
     "output_type": "execute_result"
    }
   ],
   "source": [
    "my_matrix, condition_number = generate_data()\n",
    "answer = run_diagnostic(my_matrix)\n",
    "print('condition number is ', condition_number)\n",
    "print_matrix(my_matrix)"
   ]
  },
  {
   "cell_type": "markdown",
   "metadata": {},
   "source": [
    "# Make pool"
   ]
  },
  {
   "cell_type": "code",
   "execution_count": 8,
   "metadata": {},
   "outputs": [],
   "source": [
    "number_of_questions = 10\n",
    "my_pool = pooler.setup_pool(number_of_questions)"
   ]
  },
  {
   "cell_type": "code",
   "execution_count": 9,
   "metadata": {
    "collapsed": true
   },
   "outputs": [],
   "source": [
    "for i in range(number_of_questions)\n",
    "    question = my_pool.create_question()    \n",
    "    my_matrix, condition_number = generate_data()\n",
    "    my_data = print_matrix(my_matrix)\n",
    "    my_text_power_method = \"\"\"\n",
    "    <p>Find the condition number of the matrix \\(\\\\textbf{A}\\).<br></p>\n",
    "    <p>The condition number of a matrix is the ratio of its largest eigenvalue to smallest eigenvalue.<br></p>\n",
    "    \"\"\"\n",
    "    my_text_power_method += '<p>You should use the <a href=\"https://en.wikipedia.org/wiki/Power_iteration\">Power method</a> to find the largest eigenvalue and the inverse power method to find the smallest eigenvalue of the matrix.</p><p>'\n",
    "\n",
    "    question_text = my_text_power_method + my_data + \"</p>\" + my_script\n",
    "\n",
    "    my_pool.set_question_text(question, my_text_diff1)\n",
    "    my_pool.set_question_accuracy(question, answer, error)\n",
    "    my_pool.set_question_answer(question, answer)\n",
    "    my_pool.set_question(question)        "
   ]
  },
  {
   "cell_type": "code",
   "execution_count": 10,
   "metadata": {},
   "outputs": [
    {
     "data": {
      "text/plain": [
       "'\\n    <p>Find the condition number of the matrix \\\\(\\\\textbf{A}\\\\).<br></p>\\n    <p>The condition number of a matrix is the ratio of its largest eigenvalue to smallest eigenvalue.<br></p>\\n    <p>You should use the <a href=\"https://mattatlincoln.github.io/teaching/numerical_methods/lecture_8/#/6\">Power method</a> to find the largest eigenvalue and the inverse power method to find the smallest eigenvalue of the matrix.</p><p>\\\\( \\\\textbf{A} = \\\\left( \\\\begin{array}{ccccc}<br>4.607808 & 4.415661 & 0.675002 & 1.777508 & 0.259495\\\\\\\\<br>4.415661 & 0.016633 & 8.843158 & 5.977608 & 4.793905\\\\\\\\<br>0.675002 & 8.843158 & 3.055884 & 6.598144 & 3.820933\\\\\\\\<br>1.777508 & 5.977608 & 6.598144 & 7.391397 & 1.766886\\\\\\\\<br>0.259495 & 4.793905 & 3.820933 & 1.766886 & 7.115058\\\\\\\\<br>\\\\end{array} \\\\right) \\\\)<br></p><p><script type=\"text/javascript\" src=\"https://cdn.mathjax.org/mathjax/latest/MathJax.js?config=TeX-MML-AM_CHTML\"></script></p>'"
      ]
     },
     "execution_count": 10,
     "metadata": {},
     "output_type": "execute_result"
    }
   ],
   "source": [
    "question_text"
   ]
  },
  {
   "cell_type": "code",
   "execution_count": 11,
   "metadata": {},
   "outputs": [
    {
     "data": {
      "text/plain": [
       "19.530758388731844"
      ]
     },
     "execution_count": 11,
     "metadata": {},
     "output_type": "execute_result"
    }
   ],
   "source": [
    "condition_number"
   ]
  },
  {
   "cell_type": "code",
   "execution_count": 131,
   "metadata": {
    "collapsed": true
   },
   "outputs": [],
   "source": [
    "# finally output\n",
    "tree.write('test.dat')"
   ]
  }
 ],
 "metadata": {
  "kernelspec": {
   "display_name": "Python 3 (ipykernel)",
   "language": "python",
   "name": "python3"
  },
  "language_info": {
   "codemirror_mode": {
    "name": "ipython",
    "version": 3
   },
   "file_extension": ".py",
   "mimetype": "text/x-python",
   "name": "python",
   "nbconvert_exporter": "python",
   "pygments_lexer": "ipython3",
   "version": "3.8.13"
  }
 },
 "nbformat": 4,
 "nbformat_minor": 2
}
